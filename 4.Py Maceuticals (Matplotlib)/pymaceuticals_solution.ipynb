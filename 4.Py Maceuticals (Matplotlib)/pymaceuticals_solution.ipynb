{
 "cells": [
  {
   "metadata": {},
   "cell_type": "markdown",
   "source": [
    "# Pymaceuticals Inc.\n",
    "## Analysis Conclusion\n",
    "\n",
    "- The bar chart shows that Capomulin and Ramicane have the most observation time points, indicating that researchers may have conducted more in-depth observations on these two drugs. Other drugs such as Ketapril, Naftisol, Zoniferol, Stelasyn, Placebo, Infubinol, and Ceftamin have relatively fewer observation time points but are also close to 200. Overall, the number of observation time points for most drug regimens is balanced, which helps ensure data integrity and result reliability.\n",
    "\n",
    "- The pie chart shows that male mice account for 51% and female mice account for 49% in the experiment. The gender distribution is relatively balanced, which helps ensure the representativeness and reliability of the experimental results.\n",
    "\n",
    "- The box plot shows that the tumor volumes in the Capomulin and Ramicane treatment groups are generally smaller, ranging between 30 to 45 mm³, with a lower median, indicating that these two drugs are more effective in reducing tumor volume. The interquartile range (IQR) for these two groups is also smaller, suggesting low dispersion of tumor volumes and concentrated data, which may imply more stable treatment effects. Meanwhile, there is an obvious outlier in the Infubinol group (indicated by a red dot), where the tumor volume is significantly lower than other data points; this could be due to individual differences or experimental error.\n",
    "\n",
    "- The scatter plot shows a positive correlation (correlation coefficient = 0.84) between the weight of mice treated with Capomulin (grams) and the average tumor volume (cubic millimeters). The red regression line in the graph also demonstrates this linear relationship, indicating that as the weight of the mice increases, the average tumor volume tends to increase as well. This may suggest that weight should be considered as a factor in evaluating treatment efficacy."
   ],
   "id": "c337899baab3dacd"
  },
  {
   "metadata": {
    "ExecuteTime": {
     "end_time": "2024-06-12T03:28:51.165403Z",
     "start_time": "2024-06-12T03:28:48.581251Z"
    }
   },
   "cell_type": "code",
   "source": [
    "# Dependencies and Setup\n",
    "import matplotlib.pyplot as plt\n",
    "import pandas as pd\n",
    "import scipy.stats as st"
   ],
   "id": "3516466ae06019f6",
   "outputs": [],
   "execution_count": 1
  },
  {
   "metadata": {
    "ExecuteTime": {
     "end_time": "2024-06-12T03:28:57.337702Z",
     "start_time": "2024-06-12T03:28:57.306763Z"
    }
   },
   "cell_type": "code",
   "source": [
    "# Study data files\n",
    "mouse_metadata_path = \"data/Mouse_metadata.csv\"\n",
    "study_results_path = \"data/Study_results.csv\"\n",
    "\n",
    "# Read the mouse data and the study results\n",
    "mouse_metadata = pd.read_csv(mouse_metadata_path)\n",
    "study_results = pd.read_csv(study_results_path)\n",
    "\n",
    "# Combine the data into a single DataFrame\n",
    "merge_df = pd.merge(mouse_metadata, study_results, on='Mouse ID')\n",
    "\n",
    "# Display the data table for preview\n",
    "merge_df.head()"
   ],
   "id": "508f3af665aa6cae",
   "outputs": [
    {
     "data": {
      "text/plain": [
       "  Mouse ID Drug Regimen   Sex  Age_months  Weight (g)  Timepoint  \\\n",
       "0     k403     Ramicane  Male          21          16          0   \n",
       "1     k403     Ramicane  Male          21          16          5   \n",
       "2     k403     Ramicane  Male          21          16         10   \n",
       "3     k403     Ramicane  Male          21          16         15   \n",
       "4     k403     Ramicane  Male          21          16         20   \n",
       "\n",
       "   Tumor Volume (mm3)  Metastatic Sites  \n",
       "0           45.000000                 0  \n",
       "1           38.825898                 0  \n",
       "2           35.014271                 1  \n",
       "3           34.223992                 1  \n",
       "4           32.997729                 1  "
      ],
      "text/html": [
       "<div>\n",
       "<style scoped>\n",
       "    .dataframe tbody tr th:only-of-type {\n",
       "        vertical-align: middle;\n",
       "    }\n",
       "\n",
       "    .dataframe tbody tr th {\n",
       "        vertical-align: top;\n",
       "    }\n",
       "\n",
       "    .dataframe thead th {\n",
       "        text-align: right;\n",
       "    }\n",
       "</style>\n",
       "<table border=\"1\" class=\"dataframe\">\n",
       "  <thead>\n",
       "    <tr style=\"text-align: right;\">\n",
       "      <th></th>\n",
       "      <th>Mouse ID</th>\n",
       "      <th>Drug Regimen</th>\n",
       "      <th>Sex</th>\n",
       "      <th>Age_months</th>\n",
       "      <th>Weight (g)</th>\n",
       "      <th>Timepoint</th>\n",
       "      <th>Tumor Volume (mm3)</th>\n",
       "      <th>Metastatic Sites</th>\n",
       "    </tr>\n",
       "  </thead>\n",
       "  <tbody>\n",
       "    <tr>\n",
       "      <th>0</th>\n",
       "      <td>k403</td>\n",
       "      <td>Ramicane</td>\n",
       "      <td>Male</td>\n",
       "      <td>21</td>\n",
       "      <td>16</td>\n",
       "      <td>0</td>\n",
       "      <td>45.000000</td>\n",
       "      <td>0</td>\n",
       "    </tr>\n",
       "    <tr>\n",
       "      <th>1</th>\n",
       "      <td>k403</td>\n",
       "      <td>Ramicane</td>\n",
       "      <td>Male</td>\n",
       "      <td>21</td>\n",
       "      <td>16</td>\n",
       "      <td>5</td>\n",
       "      <td>38.825898</td>\n",
       "      <td>0</td>\n",
       "    </tr>\n",
       "    <tr>\n",
       "      <th>2</th>\n",
       "      <td>k403</td>\n",
       "      <td>Ramicane</td>\n",
       "      <td>Male</td>\n",
       "      <td>21</td>\n",
       "      <td>16</td>\n",
       "      <td>10</td>\n",
       "      <td>35.014271</td>\n",
       "      <td>1</td>\n",
       "    </tr>\n",
       "    <tr>\n",
       "      <th>3</th>\n",
       "      <td>k403</td>\n",
       "      <td>Ramicane</td>\n",
       "      <td>Male</td>\n",
       "      <td>21</td>\n",
       "      <td>16</td>\n",
       "      <td>15</td>\n",
       "      <td>34.223992</td>\n",
       "      <td>1</td>\n",
       "    </tr>\n",
       "    <tr>\n",
       "      <th>4</th>\n",
       "      <td>k403</td>\n",
       "      <td>Ramicane</td>\n",
       "      <td>Male</td>\n",
       "      <td>21</td>\n",
       "      <td>16</td>\n",
       "      <td>20</td>\n",
       "      <td>32.997729</td>\n",
       "      <td>1</td>\n",
       "    </tr>\n",
       "  </tbody>\n",
       "</table>\n",
       "</div>"
      ]
     },
     "execution_count": 2,
     "metadata": {},
     "output_type": "execute_result"
    }
   ],
   "execution_count": 2
  },
  {
   "metadata": {
    "ExecuteTime": {
     "end_time": "2024-06-12T03:29:07.906952Z",
     "start_time": "2024-06-12T03:29:07.902945Z"
    }
   },
   "cell_type": "code",
   "source": [
    "# Checking the number of mice.\n",
    "mice_count = len(merge_df[\"Mouse ID\"].unique())\n",
    "print(mice_count)"
   ],
   "id": "a4b588d3d6166b83",
   "outputs": [
    {
     "name": "stdout",
     "output_type": "stream",
     "text": [
      "249\n"
     ]
    }
   ],
   "execution_count": 3
  },
  {
   "metadata": {
    "ExecuteTime": {
     "end_time": "2024-06-12T03:29:53.041343Z",
     "start_time": "2024-06-12T03:29:53.035447Z"
    }
   },
   "cell_type": "code",
   "source": [
    "# Our data should be uniquely identified by Mouse ID and Timepoint\n",
    "# Get the duplicate mice by ID number that shows up for Mouse ID and Timepoint. \n",
    "\n",
    "# Find the duplicate records based on Mouse ID and Timepoint\n",
    "duplicate_records = merge_df[merge_df.duplicated(subset=['Mouse ID',\"Timepoint\"], keep=False)]\n",
    "duplicate_mouse_id = duplicate_records['Mouse ID'].unique()\n",
    "print(duplicate_mouse_id)"
   ],
   "id": "22c22eab77a4d697",
   "outputs": [
    {
     "name": "stdout",
     "output_type": "stream",
     "text": [
      "['g989']\n"
     ]
    }
   ],
   "execution_count": 4
  },
  {
   "metadata": {
    "ExecuteTime": {
     "end_time": "2024-06-12T03:30:13.323647Z",
     "start_time": "2024-06-12T03:30:13.314906Z"
    }
   },
   "cell_type": "code",
   "source": [
    "# Optional: Get all the data for the duplicate mouse ID. \n",
    "duplicate_records"
   ],
   "id": "52aef678a809b725",
   "outputs": [
    {
     "data": {
      "text/plain": [
       "    Mouse ID Drug Regimen     Sex  Age_months  Weight (g)  Timepoint  \\\n",
       "908     g989     Propriva  Female          21          26          0   \n",
       "909     g989     Propriva  Female          21          26          0   \n",
       "910     g989     Propriva  Female          21          26          5   \n",
       "911     g989     Propriva  Female          21          26          5   \n",
       "912     g989     Propriva  Female          21          26         10   \n",
       "913     g989     Propriva  Female          21          26         10   \n",
       "914     g989     Propriva  Female          21          26         15   \n",
       "915     g989     Propriva  Female          21          26         15   \n",
       "916     g989     Propriva  Female          21          26         20   \n",
       "917     g989     Propriva  Female          21          26         20   \n",
       "\n",
       "     Tumor Volume (mm3)  Metastatic Sites  \n",
       "908           45.000000                 0  \n",
       "909           45.000000                 0  \n",
       "910           48.786801                 0  \n",
       "911           47.570392                 0  \n",
       "912           51.745156                 0  \n",
       "913           49.880528                 0  \n",
       "914           51.325852                 1  \n",
       "915           53.442020                 0  \n",
       "916           55.326122                 1  \n",
       "917           54.657650                 1  "
      ],
      "text/html": [
       "<div>\n",
       "<style scoped>\n",
       "    .dataframe tbody tr th:only-of-type {\n",
       "        vertical-align: middle;\n",
       "    }\n",
       "\n",
       "    .dataframe tbody tr th {\n",
       "        vertical-align: top;\n",
       "    }\n",
       "\n",
       "    .dataframe thead th {\n",
       "        text-align: right;\n",
       "    }\n",
       "</style>\n",
       "<table border=\"1\" class=\"dataframe\">\n",
       "  <thead>\n",
       "    <tr style=\"text-align: right;\">\n",
       "      <th></th>\n",
       "      <th>Mouse ID</th>\n",
       "      <th>Drug Regimen</th>\n",
       "      <th>Sex</th>\n",
       "      <th>Age_months</th>\n",
       "      <th>Weight (g)</th>\n",
       "      <th>Timepoint</th>\n",
       "      <th>Tumor Volume (mm3)</th>\n",
       "      <th>Metastatic Sites</th>\n",
       "    </tr>\n",
       "  </thead>\n",
       "  <tbody>\n",
       "    <tr>\n",
       "      <th>908</th>\n",
       "      <td>g989</td>\n",
       "      <td>Propriva</td>\n",
       "      <td>Female</td>\n",
       "      <td>21</td>\n",
       "      <td>26</td>\n",
       "      <td>0</td>\n",
       "      <td>45.000000</td>\n",
       "      <td>0</td>\n",
       "    </tr>\n",
       "    <tr>\n",
       "      <th>909</th>\n",
       "      <td>g989</td>\n",
       "      <td>Propriva</td>\n",
       "      <td>Female</td>\n",
       "      <td>21</td>\n",
       "      <td>26</td>\n",
       "      <td>0</td>\n",
       "      <td>45.000000</td>\n",
       "      <td>0</td>\n",
       "    </tr>\n",
       "    <tr>\n",
       "      <th>910</th>\n",
       "      <td>g989</td>\n",
       "      <td>Propriva</td>\n",
       "      <td>Female</td>\n",
       "      <td>21</td>\n",
       "      <td>26</td>\n",
       "      <td>5</td>\n",
       "      <td>48.786801</td>\n",
       "      <td>0</td>\n",
       "    </tr>\n",
       "    <tr>\n",
       "      <th>911</th>\n",
       "      <td>g989</td>\n",
       "      <td>Propriva</td>\n",
       "      <td>Female</td>\n",
       "      <td>21</td>\n",
       "      <td>26</td>\n",
       "      <td>5</td>\n",
       "      <td>47.570392</td>\n",
       "      <td>0</td>\n",
       "    </tr>\n",
       "    <tr>\n",
       "      <th>912</th>\n",
       "      <td>g989</td>\n",
       "      <td>Propriva</td>\n",
       "      <td>Female</td>\n",
       "      <td>21</td>\n",
       "      <td>26</td>\n",
       "      <td>10</td>\n",
       "      <td>51.745156</td>\n",
       "      <td>0</td>\n",
       "    </tr>\n",
       "    <tr>\n",
       "      <th>913</th>\n",
       "      <td>g989</td>\n",
       "      <td>Propriva</td>\n",
       "      <td>Female</td>\n",
       "      <td>21</td>\n",
       "      <td>26</td>\n",
       "      <td>10</td>\n",
       "      <td>49.880528</td>\n",
       "      <td>0</td>\n",
       "    </tr>\n",
       "    <tr>\n",
       "      <th>914</th>\n",
       "      <td>g989</td>\n",
       "      <td>Propriva</td>\n",
       "      <td>Female</td>\n",
       "      <td>21</td>\n",
       "      <td>26</td>\n",
       "      <td>15</td>\n",
       "      <td>51.325852</td>\n",
       "      <td>1</td>\n",
       "    </tr>\n",
       "    <tr>\n",
       "      <th>915</th>\n",
       "      <td>g989</td>\n",
       "      <td>Propriva</td>\n",
       "      <td>Female</td>\n",
       "      <td>21</td>\n",
       "      <td>26</td>\n",
       "      <td>15</td>\n",
       "      <td>53.442020</td>\n",
       "      <td>0</td>\n",
       "    </tr>\n",
       "    <tr>\n",
       "      <th>916</th>\n",
       "      <td>g989</td>\n",
       "      <td>Propriva</td>\n",
       "      <td>Female</td>\n",
       "      <td>21</td>\n",
       "      <td>26</td>\n",
       "      <td>20</td>\n",
       "      <td>55.326122</td>\n",
       "      <td>1</td>\n",
       "    </tr>\n",
       "    <tr>\n",
       "      <th>917</th>\n",
       "      <td>g989</td>\n",
       "      <td>Propriva</td>\n",
       "      <td>Female</td>\n",
       "      <td>21</td>\n",
       "      <td>26</td>\n",
       "      <td>20</td>\n",
       "      <td>54.657650</td>\n",
       "      <td>1</td>\n",
       "    </tr>\n",
       "  </tbody>\n",
       "</table>\n",
       "</div>"
      ]
     },
     "execution_count": 6,
     "metadata": {},
     "output_type": "execute_result"
    }
   ],
   "execution_count": 6
  },
  {
   "metadata": {
    "ExecuteTime": {
     "end_time": "2024-06-12T03:30:29.877676Z",
     "start_time": "2024-06-12T03:30:29.866908Z"
    }
   },
   "cell_type": "code",
   "source": [
    "# Create a clean DataFrame by dropping the duplicate mouse by its ID.\n",
    "clean_df = merge_df[merge_df[\"Mouse ID\"] != 'g989']\n",
    "clean_df.head()"
   ],
   "id": "9ce482e947f5b65d",
   "outputs": [
    {
     "data": {
      "text/plain": [
       "  Mouse ID Drug Regimen   Sex  Age_months  Weight (g)  Timepoint  \\\n",
       "0     k403     Ramicane  Male          21          16          0   \n",
       "1     k403     Ramicane  Male          21          16          5   \n",
       "2     k403     Ramicane  Male          21          16         10   \n",
       "3     k403     Ramicane  Male          21          16         15   \n",
       "4     k403     Ramicane  Male          21          16         20   \n",
       "\n",
       "   Tumor Volume (mm3)  Metastatic Sites  \n",
       "0           45.000000                 0  \n",
       "1           38.825898                 0  \n",
       "2           35.014271                 1  \n",
       "3           34.223992                 1  \n",
       "4           32.997729                 1  "
      ],
      "text/html": [
       "<div>\n",
       "<style scoped>\n",
       "    .dataframe tbody tr th:only-of-type {\n",
       "        vertical-align: middle;\n",
       "    }\n",
       "\n",
       "    .dataframe tbody tr th {\n",
       "        vertical-align: top;\n",
       "    }\n",
       "\n",
       "    .dataframe thead th {\n",
       "        text-align: right;\n",
       "    }\n",
       "</style>\n",
       "<table border=\"1\" class=\"dataframe\">\n",
       "  <thead>\n",
       "    <tr style=\"text-align: right;\">\n",
       "      <th></th>\n",
       "      <th>Mouse ID</th>\n",
       "      <th>Drug Regimen</th>\n",
       "      <th>Sex</th>\n",
       "      <th>Age_months</th>\n",
       "      <th>Weight (g)</th>\n",
       "      <th>Timepoint</th>\n",
       "      <th>Tumor Volume (mm3)</th>\n",
       "      <th>Metastatic Sites</th>\n",
       "    </tr>\n",
       "  </thead>\n",
       "  <tbody>\n",
       "    <tr>\n",
       "      <th>0</th>\n",
       "      <td>k403</td>\n",
       "      <td>Ramicane</td>\n",
       "      <td>Male</td>\n",
       "      <td>21</td>\n",
       "      <td>16</td>\n",
       "      <td>0</td>\n",
       "      <td>45.000000</td>\n",
       "      <td>0</td>\n",
       "    </tr>\n",
       "    <tr>\n",
       "      <th>1</th>\n",
       "      <td>k403</td>\n",
       "      <td>Ramicane</td>\n",
       "      <td>Male</td>\n",
       "      <td>21</td>\n",
       "      <td>16</td>\n",
       "      <td>5</td>\n",
       "      <td>38.825898</td>\n",
       "      <td>0</td>\n",
       "    </tr>\n",
       "    <tr>\n",
       "      <th>2</th>\n",
       "      <td>k403</td>\n",
       "      <td>Ramicane</td>\n",
       "      <td>Male</td>\n",
       "      <td>21</td>\n",
       "      <td>16</td>\n",
       "      <td>10</td>\n",
       "      <td>35.014271</td>\n",
       "      <td>1</td>\n",
       "    </tr>\n",
       "    <tr>\n",
       "      <th>3</th>\n",
       "      <td>k403</td>\n",
       "      <td>Ramicane</td>\n",
       "      <td>Male</td>\n",
       "      <td>21</td>\n",
       "      <td>16</td>\n",
       "      <td>15</td>\n",
       "      <td>34.223992</td>\n",
       "      <td>1</td>\n",
       "    </tr>\n",
       "    <tr>\n",
       "      <th>4</th>\n",
       "      <td>k403</td>\n",
       "      <td>Ramicane</td>\n",
       "      <td>Male</td>\n",
       "      <td>21</td>\n",
       "      <td>16</td>\n",
       "      <td>20</td>\n",
       "      <td>32.997729</td>\n",
       "      <td>1</td>\n",
       "    </tr>\n",
       "  </tbody>\n",
       "</table>\n",
       "</div>"
      ]
     },
     "execution_count": 7,
     "metadata": {},
     "output_type": "execute_result"
    }
   ],
   "execution_count": 7
  },
  {
   "metadata": {
    "ExecuteTime": {
     "end_time": "2024-06-12T03:30:38.449394Z",
     "start_time": "2024-06-12T03:30:38.444826Z"
    }
   },
   "cell_type": "code",
   "source": [
    "mice_count_of_clean_df = len(clean_df[\"Mouse ID\"].unique())\n",
    "mice_count_of_clean_df"
   ],
   "id": "ffefeccc25a709d1",
   "outputs": [
    {
     "data": {
      "text/plain": [
       "248"
      ]
     },
     "execution_count": 8,
     "metadata": {},
     "output_type": "execute_result"
    }
   ],
   "execution_count": 8
  },
  {
   "metadata": {},
   "cell_type": "markdown",
   "source": "## Summary Statistics",
   "id": "cd9708a2d6b396ad"
  },
  {
   "metadata": {
    "ExecuteTime": {
     "end_time": "2024-06-12T03:32:15.955938Z",
     "start_time": "2024-06-12T03:32:15.938050Z"
    }
   },
   "cell_type": "code",
   "source": [
    "# Generate a summary statistics table of mean, median, variance, standard deviation, and SEM of the tumor volume for each regimen\n",
    "# Use groupby and summary statistical methods to calculate the following properties of each drug regimen: \n",
    "\n",
    "# Assemble the resulting series into a single summary DataFrame.\n",
    "import numpy as np\n",
    "\n",
    "# Use groupby and summary statistical methods to calculate the following properties of each drug regimen\n",
    "regimen_groups_data = clean_df.groupby('Drug Regimen')\n",
    "\n",
    "# Calculate mean, median, variance, standard deviation, and SEM of the tumor volume. \n",
    "mean_tumor_vol = regimen_groups_data['Tumor Volume (mm3)'].mean()\n",
    "median_tumor_vol = regimen_groups_data['Tumor Volume (mm3)'].median()\n",
    "variance_tumor_vol = regimen_groups_data['Tumor Volume (mm3)'].var()\n",
    "sample_size = regimen_groups_data['Tumor Volume (mm3)'].count()\n",
    "std_tumor_vol = regimen_groups_data['Tumor Volume (mm3)'].std()\n",
    "sem_tumor_vol = std_tumor_vol / np.sqrt(sample_size)\n",
    "\n",
    "group_items = {\n",
    "    \"Mean Tumor Volume\": mean_tumor_vol,\n",
    "    \"Median Tumor Volume\": median_tumor_vol,\n",
    "    \"Tumor Volume Vaiance\": variance_tumor_vol,\n",
    "    \"Tumor Volume Std. Dev.\": std_tumor_vol,\n",
    "    \"Tumor Volume Std. Err.\": sem_tumor_vol\n",
    "}\n",
    "\n",
    "regimen_summary = pd.DataFrame(group_items)\n",
    "regimen_summary = regimen_summary.sort_values(by='Mean Tumor Volume', ascending=True)\n",
    "regimen_summary"
   ],
   "id": "ae74f86d643a27b9",
   "outputs": [
    {
     "data": {
      "text/plain": [
       "              Mean Tumor Volume  Median Tumor Volume  Tumor Volume Vaiance  \\\n",
       "Drug Regimen                                                                 \n",
       "Ramicane              40.216745            40.673236             23.486704   \n",
       "Capomulin             40.675741            41.557809             24.947764   \n",
       "Propriva              52.320930            50.446266             43.852013   \n",
       "Ceftamin              52.591172            51.776157             39.290177   \n",
       "Infubinol             52.884795            51.820584             43.128684   \n",
       "Zoniferol             53.236507            51.818479             48.533355   \n",
       "Placebo               54.033581            52.288934             61.168083   \n",
       "Stelasyn              54.233149            52.431737             59.450562   \n",
       "Naftisol              54.331565            52.509285             66.173479   \n",
       "Ketapril              55.235638            53.698743             68.553577   \n",
       "\n",
       "              Tumor Volume Std. Dev.  Tumor Volume Std. Err.  \n",
       "Drug Regimen                                                  \n",
       "Ramicane                    4.846308                0.320955  \n",
       "Capomulin                   4.994774                0.329346  \n",
       "Propriva                    6.622085                0.544332  \n",
       "Ceftamin                    6.268188                0.469821  \n",
       "Infubinol                   6.567243                0.492236  \n",
       "Zoniferol                   6.966589                0.516398  \n",
       "Placebo                     7.821003                0.581331  \n",
       "Stelasyn                    7.710419                0.573111  \n",
       "Naftisol                    8.134708                0.596466  \n",
       "Ketapril                    8.279709                0.603860  "
      ],
      "text/html": [
       "<div>\n",
       "<style scoped>\n",
       "    .dataframe tbody tr th:only-of-type {\n",
       "        vertical-align: middle;\n",
       "    }\n",
       "\n",
       "    .dataframe tbody tr th {\n",
       "        vertical-align: top;\n",
       "    }\n",
       "\n",
       "    .dataframe thead th {\n",
       "        text-align: right;\n",
       "    }\n",
       "</style>\n",
       "<table border=\"1\" class=\"dataframe\">\n",
       "  <thead>\n",
       "    <tr style=\"text-align: right;\">\n",
       "      <th></th>\n",
       "      <th>Mean Tumor Volume</th>\n",
       "      <th>Median Tumor Volume</th>\n",
       "      <th>Tumor Volume Vaiance</th>\n",
       "      <th>Tumor Volume Std. Dev.</th>\n",
       "      <th>Tumor Volume Std. Err.</th>\n",
       "    </tr>\n",
       "    <tr>\n",
       "      <th>Drug Regimen</th>\n",
       "      <th></th>\n",
       "      <th></th>\n",
       "      <th></th>\n",
       "      <th></th>\n",
       "      <th></th>\n",
       "    </tr>\n",
       "  </thead>\n",
       "  <tbody>\n",
       "    <tr>\n",
       "      <th>Ramicane</th>\n",
       "      <td>40.216745</td>\n",
       "      <td>40.673236</td>\n",
       "      <td>23.486704</td>\n",
       "      <td>4.846308</td>\n",
       "      <td>0.320955</td>\n",
       "    </tr>\n",
       "    <tr>\n",
       "      <th>Capomulin</th>\n",
       "      <td>40.675741</td>\n",
       "      <td>41.557809</td>\n",
       "      <td>24.947764</td>\n",
       "      <td>4.994774</td>\n",
       "      <td>0.329346</td>\n",
       "    </tr>\n",
       "    <tr>\n",
       "      <th>Propriva</th>\n",
       "      <td>52.320930</td>\n",
       "      <td>50.446266</td>\n",
       "      <td>43.852013</td>\n",
       "      <td>6.622085</td>\n",
       "      <td>0.544332</td>\n",
       "    </tr>\n",
       "    <tr>\n",
       "      <th>Ceftamin</th>\n",
       "      <td>52.591172</td>\n",
       "      <td>51.776157</td>\n",
       "      <td>39.290177</td>\n",
       "      <td>6.268188</td>\n",
       "      <td>0.469821</td>\n",
       "    </tr>\n",
       "    <tr>\n",
       "      <th>Infubinol</th>\n",
       "      <td>52.884795</td>\n",
       "      <td>51.820584</td>\n",
       "      <td>43.128684</td>\n",
       "      <td>6.567243</td>\n",
       "      <td>0.492236</td>\n",
       "    </tr>\n",
       "    <tr>\n",
       "      <th>Zoniferol</th>\n",
       "      <td>53.236507</td>\n",
       "      <td>51.818479</td>\n",
       "      <td>48.533355</td>\n",
       "      <td>6.966589</td>\n",
       "      <td>0.516398</td>\n",
       "    </tr>\n",
       "    <tr>\n",
       "      <th>Placebo</th>\n",
       "      <td>54.033581</td>\n",
       "      <td>52.288934</td>\n",
       "      <td>61.168083</td>\n",
       "      <td>7.821003</td>\n",
       "      <td>0.581331</td>\n",
       "    </tr>\n",
       "    <tr>\n",
       "      <th>Stelasyn</th>\n",
       "      <td>54.233149</td>\n",
       "      <td>52.431737</td>\n",
       "      <td>59.450562</td>\n",
       "      <td>7.710419</td>\n",
       "      <td>0.573111</td>\n",
       "    </tr>\n",
       "    <tr>\n",
       "      <th>Naftisol</th>\n",
       "      <td>54.331565</td>\n",
       "      <td>52.509285</td>\n",
       "      <td>66.173479</td>\n",
       "      <td>8.134708</td>\n",
       "      <td>0.596466</td>\n",
       "    </tr>\n",
       "    <tr>\n",
       "      <th>Ketapril</th>\n",
       "      <td>55.235638</td>\n",
       "      <td>53.698743</td>\n",
       "      <td>68.553577</td>\n",
       "      <td>8.279709</td>\n",
       "      <td>0.603860</td>\n",
       "    </tr>\n",
       "  </tbody>\n",
       "</table>\n",
       "</div>"
      ]
     },
     "execution_count": 9,
     "metadata": {},
     "output_type": "execute_result"
    }
   ],
   "execution_count": 9
  },
  {
   "metadata": {
    "ExecuteTime": {
     "end_time": "2024-06-12T03:35:23.810222Z",
     "start_time": "2024-06-12T03:35:23.795888Z"
    }
   },
   "cell_type": "code",
   "source": [
    "# A more advanced method to generate a summary statistics table of mean, median, variance, standard deviation,\n",
    "# and SEM of the tumor volume for each regimen (only one method is required in the solution)\n",
    "\n",
    "# Using the aggregation method, produce the same summary statistics in a single line\n",
    "regimen_summary_2 = clean_df.groupby('Drug Regimen')['Tumor Volume (mm3)'].agg(\n",
    "    mean_tumor_vol = 'mean',\n",
    "    median_tumor_vol = 'median',\n",
    "    variance_tumor_vol = 'var',\n",
    "    std_tumor_vol = 'std',\n",
    "    sem_tumor_vol = lambda x: np.std(x, ddof=1) / np.sqrt(len(x))\n",
    ")\n",
    "\n",
    "regimen_summary_2 = regimen_summary_2.sort_values(by='mean_tumor_vol', ascending=True)\n",
    "regimen_summary_2 = regimen_summary_2.reset_index()\n",
    "regimen_summary_2"
   ],
   "id": "e8257f1f98693f4d",
   "outputs": [
    {
     "data": {
      "text/plain": [
       "  Drug Regimen  mean_tumor_vol  median_tumor_vol  variance_tumor_vol  \\\n",
       "0     Ramicane       40.216745         40.673236           23.486704   \n",
       "1    Capomulin       40.675741         41.557809           24.947764   \n",
       "2     Propriva       52.320930         50.446266           43.852013   \n",
       "3     Ceftamin       52.591172         51.776157           39.290177   \n",
       "4    Infubinol       52.884795         51.820584           43.128684   \n",
       "5    Zoniferol       53.236507         51.818479           48.533355   \n",
       "6      Placebo       54.033581         52.288934           61.168083   \n",
       "7     Stelasyn       54.233149         52.431737           59.450562   \n",
       "8     Naftisol       54.331565         52.509285           66.173479   \n",
       "9     Ketapril       55.235638         53.698743           68.553577   \n",
       "\n",
       "   std_tumor_vol  sem_tumor_vol  \n",
       "0       4.846308       0.320955  \n",
       "1       4.994774       0.329346  \n",
       "2       6.622085       0.544332  \n",
       "3       6.268188       0.469821  \n",
       "4       6.567243       0.492236  \n",
       "5       6.966589       0.516398  \n",
       "6       7.821003       0.581331  \n",
       "7       7.710419       0.573111  \n",
       "8       8.134708       0.596466  \n",
       "9       8.279709       0.603860  "
      ],
      "text/html": [
       "<div>\n",
       "<style scoped>\n",
       "    .dataframe tbody tr th:only-of-type {\n",
       "        vertical-align: middle;\n",
       "    }\n",
       "\n",
       "    .dataframe tbody tr th {\n",
       "        vertical-align: top;\n",
       "    }\n",
       "\n",
       "    .dataframe thead th {\n",
       "        text-align: right;\n",
       "    }\n",
       "</style>\n",
       "<table border=\"1\" class=\"dataframe\">\n",
       "  <thead>\n",
       "    <tr style=\"text-align: right;\">\n",
       "      <th></th>\n",
       "      <th>Drug Regimen</th>\n",
       "      <th>mean_tumor_vol</th>\n",
       "      <th>median_tumor_vol</th>\n",
       "      <th>variance_tumor_vol</th>\n",
       "      <th>std_tumor_vol</th>\n",
       "      <th>sem_tumor_vol</th>\n",
       "    </tr>\n",
       "  </thead>\n",
       "  <tbody>\n",
       "    <tr>\n",
       "      <th>0</th>\n",
       "      <td>Ramicane</td>\n",
       "      <td>40.216745</td>\n",
       "      <td>40.673236</td>\n",
       "      <td>23.486704</td>\n",
       "      <td>4.846308</td>\n",
       "      <td>0.320955</td>\n",
       "    </tr>\n",
       "    <tr>\n",
       "      <th>1</th>\n",
       "      <td>Capomulin</td>\n",
       "      <td>40.675741</td>\n",
       "      <td>41.557809</td>\n",
       "      <td>24.947764</td>\n",
       "      <td>4.994774</td>\n",
       "      <td>0.329346</td>\n",
       "    </tr>\n",
       "    <tr>\n",
       "      <th>2</th>\n",
       "      <td>Propriva</td>\n",
       "      <td>52.320930</td>\n",
       "      <td>50.446266</td>\n",
       "      <td>43.852013</td>\n",
       "      <td>6.622085</td>\n",
       "      <td>0.544332</td>\n",
       "    </tr>\n",
       "    <tr>\n",
       "      <th>3</th>\n",
       "      <td>Ceftamin</td>\n",
       "      <td>52.591172</td>\n",
       "      <td>51.776157</td>\n",
       "      <td>39.290177</td>\n",
       "      <td>6.268188</td>\n",
       "      <td>0.469821</td>\n",
       "    </tr>\n",
       "    <tr>\n",
       "      <th>4</th>\n",
       "      <td>Infubinol</td>\n",
       "      <td>52.884795</td>\n",
       "      <td>51.820584</td>\n",
       "      <td>43.128684</td>\n",
       "      <td>6.567243</td>\n",
       "      <td>0.492236</td>\n",
       "    </tr>\n",
       "    <tr>\n",
       "      <th>5</th>\n",
       "      <td>Zoniferol</td>\n",
       "      <td>53.236507</td>\n",
       "      <td>51.818479</td>\n",
       "      <td>48.533355</td>\n",
       "      <td>6.966589</td>\n",
       "      <td>0.516398</td>\n",
       "    </tr>\n",
       "    <tr>\n",
       "      <th>6</th>\n",
       "      <td>Placebo</td>\n",
       "      <td>54.033581</td>\n",
       "      <td>52.288934</td>\n",
       "      <td>61.168083</td>\n",
       "      <td>7.821003</td>\n",
       "      <td>0.581331</td>\n",
       "    </tr>\n",
       "    <tr>\n",
       "      <th>7</th>\n",
       "      <td>Stelasyn</td>\n",
       "      <td>54.233149</td>\n",
       "      <td>52.431737</td>\n",
       "      <td>59.450562</td>\n",
       "      <td>7.710419</td>\n",
       "      <td>0.573111</td>\n",
       "    </tr>\n",
       "    <tr>\n",
       "      <th>8</th>\n",
       "      <td>Naftisol</td>\n",
       "      <td>54.331565</td>\n",
       "      <td>52.509285</td>\n",
       "      <td>66.173479</td>\n",
       "      <td>8.134708</td>\n",
       "      <td>0.596466</td>\n",
       "    </tr>\n",
       "    <tr>\n",
       "      <th>9</th>\n",
       "      <td>Ketapril</td>\n",
       "      <td>55.235638</td>\n",
       "      <td>53.698743</td>\n",
       "      <td>68.553577</td>\n",
       "      <td>8.279709</td>\n",
       "      <td>0.603860</td>\n",
       "    </tr>\n",
       "  </tbody>\n",
       "</table>\n",
       "</div>"
      ]
     },
     "execution_count": 11,
     "metadata": {},
     "output_type": "execute_result"
    }
   ],
   "execution_count": 11
  },
  {
   "metadata": {},
   "cell_type": "markdown",
   "source": "## Bar and Pie Charts",
   "id": "ca96ebbcde4d850e"
  },
  {
   "metadata": {
    "ExecuteTime": {
     "end_time": "2024-06-12T03:36:37.900490Z",
     "start_time": "2024-06-12T03:36:37.567562Z"
    }
   },
   "cell_type": "code",
   "source": [
    "# Generate a bar plot showing the total number of rows (Mouse ID/Timepoints) for each drug regimen using Pandas.\n",
    "regimen_counts = clean_df['Drug Regimen'].value_counts()\n",
    "regimen_counts.plot(kind='bar', color='blue',figsize=[10, 6], alpha=0.5,\n",
    "                    xlabel = \"Drug Regimen\",\n",
    "                    ylabel = \"# of Observed Mouse Timepoints\",\n",
    "                    rot = 90)"
   ],
   "id": "e3388d721b99e51e",
   "outputs": [
    {
     "data": {
      "text/plain": [
       "<Axes: xlabel='Drug Regimen', ylabel='# of Observed Mouse Timepoints'>"
      ]
     },
     "execution_count": 12,
     "metadata": {},
     "output_type": "execute_result"
    },
    {
     "data": {
      "text/plain": [
       "<Figure size 1000x600 with 1 Axes>"
      ],
      "image/png": "[encoded data removed]"
     },
     "metadata": {},
     "output_type": "display_data"
    }
   ],
   "execution_count": 12
  },
  {
   "metadata": {
    "ExecuteTime": {
     "end_time": "2024-06-12T03:36:55.357141Z",
     "start_time": "2024-06-12T03:36:55.199391Z"
    }
   },
   "cell_type": "code",
   "source": [
    "# Generate a bar plot showing the total number of rows (Mouse ID/Timepoints) for each drug regimen using pyplot.\n",
    "plt.figure(figsize=(10, 6))\n",
    "plt.bar(regimen_counts.index, regimen_counts.values, color='blue', alpha=0.5)\n",
    "plt.xticks(rotation=90)\n",
    "plt.xlabel(\"Drug Regimen\")\n",
    "plt.ylabel(\"# of Observed Mouse Timepoints\")\n",
    "plt.show()"
   ],
   "id": "881593778c559d37",
   "outputs": [
    {
     "data": {
      "text/plain": [
       "<Figure size 1000x600 with 1 Axes>"
      ],
      "image/png": "[encoded data removed]"
     },
     "metadata": {},
     "output_type": "display_data"
    }
   ],
   "execution_count": 13
  },
  {
   "metadata": {
    "ExecuteTime": {
     "end_time": "2024-06-12T03:37:27.269747Z",
     "start_time": "2024-06-12T03:37:27.180504Z"
    }
   },
   "cell_type": "code",
   "source": [
    "# Generate a pie plot showing the distribution of female versus male mice using Pandas\n",
    "gender_count = clean_df['Sex'].value_counts()\n",
    "gender_count.plot(kind='pie', figsize=[10, 6],\n",
    "                  ylabel = \"Sex\",autopct='%1.1f%%')"
   ],
   "id": "2bbb7d7c520fd83",
   "outputs": [
    {
     "data": {
      "text/plain": [
       "<Axes: ylabel='Sex'>"
      ]
     },
     "execution_count": 14,
     "metadata": {},
     "output_type": "execute_result"
    },
    {
     "data": {
      "text/plain": [
       "<Figure size 1000x600 with 1 Axes>"
      ],
      "image/png": "[encoded data removed]"
     },
     "metadata": {},
     "output_type": "display_data"
    }
   ],
   "execution_count": 14
  },
  {
   "metadata": {
    "ExecuteTime": {
     "end_time": "2024-06-12T03:37:39.654822Z",
     "start_time": "2024-06-12T03:37:39.577749Z"
    }
   },
   "cell_type": "code",
   "source": [
    "# Generate a pie plot showing the distribution of female versus male mice using pyplot\n",
    "plt.figure(figsize=(10, 6))\n",
    "plt.pie(gender_count, labels=gender_count.index, autopct='%1.1f%%')\n",
    "plt.ylabel(\"Sex\")\n",
    "plt.show()"
   ],
   "id": "601a55c8531c2053",
   "outputs": [
    {
     "data": {
      "text/plain": [
       "<Figure size 1000x600 with 1 Axes>"
      ],
      "image/png": "[encoded data removed]"
     },
     "metadata": {},
     "output_type": "display_data"
    }
   ],
   "execution_count": 15
  },
  {
   "metadata": {},
   "cell_type": "markdown",
   "source": "## Quartiles, Outliers and Boxplots",
   "id": "ef909b0f20934eff"
  },
  {
   "metadata": {
    "ExecuteTime": {
     "end_time": "2024-06-12T03:38:30.042889Z",
     "start_time": "2024-06-12T03:38:30.023455Z"
    }
   },
   "cell_type": "code",
   "source": [
    "# Calculate the final tumor volume of each mouse across four of the treatment regimens: \n",
    "# Capomulin, Ramicane, Infubinol, and Ceftamin\n",
    "treatment_list = ['Capomulin', 'Ramicane', 'Infubinol', 'Ceftamin']\n",
    "treatment_df = clean_df[clean_df['Drug Regimen'].isin(treatment_list)]\n",
    "\n",
    "# Start by getting the last (greatest) timepoint for each mouse\n",
    "max_timepoint = treatment_df.groupby('Mouse ID')['Timepoint'].max().reset_index()\n",
    "max_timepoint = max_timepoint.rename(columns={'Timepoint': 'Max Timepoint'})\n",
    "\n",
    "# Merge this group df with the original DataFrame to get the tumor volume at the last timepoint\n",
    "tumor_merged_df = pd.merge(max_timepoint, treatment_df, left_on=['Mouse ID', 'Max Timepoint'], right_on=['Mouse ID', 'Timepoint'], how='left')\n",
    "\n",
    "# Check the merged data\n",
    "tumor_merged_df.head()"
   ],
   "id": "91a3c9fcb414f8e5",
   "outputs": [
    {
     "data": {
      "text/plain": [
       "  Mouse ID  Max Timepoint Drug Regimen     Sex  Age_months  Weight (g)  \\\n",
       "0     a203             45    Infubinol  Female          20          23   \n",
       "1     a251             45    Infubinol  Female          21          25   \n",
       "2     a275             45     Ceftamin  Female          20          28   \n",
       "3     a411             45     Ramicane    Male           3          22   \n",
       "4     a444             45     Ramicane  Female          10          25   \n",
       "\n",
       "   Timepoint  Tumor Volume (mm3)  Metastatic Sites  \n",
       "0         45           67.973419                 2  \n",
       "1         45           65.525743                 1  \n",
       "2         45           62.999356                 3  \n",
       "3         45           38.407618                 1  \n",
       "4         45           43.047543                 0  "
      ],
      "text/html": [
       "<div>\n",
       "<style scoped>\n",
       "    .dataframe tbody tr th:only-of-type {\n",
       "        vertical-align: middle;\n",
       "    }\n",
       "\n",
       "    .dataframe tbody tr th {\n",
       "        vertical-align: top;\n",
       "    }\n",
       "\n",
       "    .dataframe thead th {\n",
       "        text-align: right;\n",
       "    }\n",
       "</style>\n",
       "<table border=\"1\" class=\"dataframe\">\n",
       "  <thead>\n",
       "    <tr style=\"text-align: right;\">\n",
       "      <th></th>\n",
       "      <th>Mouse ID</th>\n",
       "      <th>Max Timepoint</th>\n",
       "      <th>Drug Regimen</th>\n",
       "      <th>Sex</th>\n",
       "      <th>Age_months</th>\n",
       "      <th>Weight (g)</th>\n",
       "      <th>Timepoint</th>\n",
       "      <th>Tumor Volume (mm3)</th>\n",
       "      <th>Metastatic Sites</th>\n",
       "    </tr>\n",
       "  </thead>\n",
       "  <tbody>\n",
       "    <tr>\n",
       "      <th>0</th>\n",
       "      <td>a203</td>\n",
       "      <td>45</td>\n",
       "      <td>Infubinol</td>\n",
       "      <td>Female</td>\n",
       "      <td>20</td>\n",
       "      <td>23</td>\n",
       "      <td>45</td>\n",
       "      <td>67.973419</td>\n",
       "      <td>2</td>\n",
       "    </tr>\n",
       "    <tr>\n",
       "      <th>1</th>\n",
       "      <td>a251</td>\n",
       "      <td>45</td>\n",
       "      <td>Infubinol</td>\n",
       "      <td>Female</td>\n",
       "      <td>21</td>\n",
       "      <td>25</td>\n",
       "      <td>45</td>\n",
       "      <td>65.525743</td>\n",
       "      <td>1</td>\n",
       "    </tr>\n",
       "    <tr>\n",
       "      <th>2</th>\n",
       "      <td>a275</td>\n",
       "      <td>45</td>\n",
       "      <td>Ceftamin</td>\n",
       "      <td>Female</td>\n",
       "      <td>20</td>\n",
       "      <td>28</td>\n",
       "      <td>45</td>\n",
       "      <td>62.999356</td>\n",
       "      <td>3</td>\n",
       "    </tr>\n",
       "    <tr>\n",
       "      <th>3</th>\n",
       "      <td>a411</td>\n",
       "      <td>45</td>\n",
       "      <td>Ramicane</td>\n",
       "      <td>Male</td>\n",
       "      <td>3</td>\n",
       "      <td>22</td>\n",
       "      <td>45</td>\n",
       "      <td>38.407618</td>\n",
       "      <td>1</td>\n",
       "    </tr>\n",
       "    <tr>\n",
       "      <th>4</th>\n",
       "      <td>a444</td>\n",
       "      <td>45</td>\n",
       "      <td>Ramicane</td>\n",
       "      <td>Female</td>\n",
       "      <td>10</td>\n",
       "      <td>25</td>\n",
       "      <td>45</td>\n",
       "      <td>43.047543</td>\n",
       "      <td>0</td>\n",
       "    </tr>\n",
       "  </tbody>\n",
       "</table>\n",
       "</div>"
      ]
     },
     "execution_count": 16,
     "metadata": {},
     "output_type": "execute_result"
    }
   ],
   "execution_count": 16
  },
  {
   "metadata": {
    "ExecuteTime": {
     "end_time": "2024-06-12T03:54:11.186759Z",
     "start_time": "2024-06-12T03:54:11.174110Z"
    }
   },
   "cell_type": "code",
   "source": [
    "# Put treatments into a list for for loop (and later for plot labels)\n",
    "treatment_list = ['Capomulin', 'Ramicane', 'Infubinol', 'Ceftamin']\n",
    "\n",
    "# Create an empty list to fill with tumor volume data (for plotting)\n",
    "tumor_vol_data = []\n",
    "\n",
    "# Calculate the IQR and quantitatively determine if there are any potential outliers\n",
    "for drug in treatment_list:\n",
    "    # Locate the rows which contain mice on each drug and get the tumor volumes\n",
    "    drug_data = tumor_merged_df[tumor_merged_df['Drug Regimen'] == drug]['Tumor Volume (mm3)']\n",
    "    # Add subset to the list\n",
    "    tumor_vol_data.append(drug_data)\n",
    "\n",
    "    # Calculate the interquartile range (IQR)\n",
    "    quartiles = drug_data.quantile([0.25, 0.5, 0.75])\n",
    "    lowerq = quartiles[0.25]\n",
    "    upperq = quartiles[0.75]\n",
    "    iqr = upperq - lowerq\n",
    "\n",
    "    # Determine potential outliers' lower and upper bounds\n",
    "    lower_bound = lowerq - (1.5 * iqr)\n",
    "    upper_bound = upperq + (1.5 * iqr)\n",
    "\n",
    "    # # Check the results\n",
    "    # print(f\"{drug} treatment IQR calculation:\")\n",
    "    # print(f\"Lower quartile (Q1): {lowerq}\")\n",
    "    # print(f\"Upper quartile (Q3): {upperq}\")\n",
    "    # print(f\"Interquartile range (IQR): {iqr}\")\n",
    "    # print(f\"Potential outliers lower bound: {lower_bound}\")\n",
    "    # print(f\"Potential outliers upper bound: {upper_bound}\")\n",
    "\n",
    "    # Determine if there are any potential outliers\n",
    "    outliers = drug_data[(drug_data < lower_bound) | (drug_data > upper_bound)]\n",
    "    print(f\"{drug}‘'s potential outliers: {outliers}\\n\")\n"
   ],
   "id": "1eead1c4102ffcba",
   "outputs": [
    {
     "name": "stdout",
     "output_type": "stream",
     "text": [
      "Capomulin‘'s potential outliers: Series([], Name: Tumor Volume (mm3), dtype: float64)\n",
      "\n",
      "Ramicane‘'s potential outliers: Series([], Name: Tumor Volume (mm3), dtype: float64)\n",
      "\n",
      "Infubinol‘'s potential outliers: 15    36.321346\n",
      "Name: Tumor Volume (mm3), dtype: float64\n",
      "\n",
      "Ceftamin‘'s potential outliers: Series([], Name: Tumor Volume (mm3), dtype: float64)\n",
      "\n"
     ]
    }
   ],
   "execution_count": 21
  },
  {
   "metadata": {
    "ExecuteTime": {
     "end_time": "2024-06-12T03:54:52.997030Z",
     "start_time": "2024-06-12T03:54:52.852150Z"
    }
   },
   "cell_type": "code",
   "source": [
    "# Generate a box plot that shows the distrubution of the tumor volume for each treatment group.\n",
    "# Attributes of Configuration Anomalies\n",
    "flierprops = dict(marker='o', markerfacecolor='red', markersize=8, linestyle='none')\n",
    "\n",
    "# Create the box plot\n",
    "plt.figure(figsize=(10, 6))\n",
    "plt.boxplot(tumor_vol_data, labels=treatment_list, flierprops=flierprops)\n",
    "plt.ylabel('Final Tumor Volume (mm3)')\n",
    "plt.show()"
   ],
   "id": "1381cdef4c1e8aef",
   "outputs": [
    {
     "data": {
      "text/plain": [
       "<Figure size 1000x600 with 1 Axes>"
      ],
      "image/png": "[encoded data removed]"
     },
     "metadata": {},
     "output_type": "display_data"
    }
   ],
   "execution_count": 22
  },
  {
   "metadata": {},
   "cell_type": "markdown",
   "source": "## Line and Scatter Plots",
   "id": "34d87a596e72d9cb"
  },
  {
   "metadata": {
    "ExecuteTime": {
     "end_time": "2024-06-12T03:55:24.101431Z",
     "start_time": "2024-06-12T03:55:23.874243Z"
    }
   },
   "cell_type": "code",
   "source": [
    "# Generate a line plot of tumor volume vs. time point for a single mouse treated with Capomulin\n",
    "\n",
    "#Prepare the dataframe\n",
    "mouse_id = 'l509'\n",
    "treatment_method = \"Capomulin\"\n",
    "# Filtered the data with \"Mouse ID\" is \"l509\" and \"Drug Regimen\" is \"Capomulin\"\n",
    "mouse_data = clean_df[(clean_df[\"Mouse ID\"] == mouse_id) & (clean_df[\"Drug Regimen\"] == treatment_method)]\n",
    "\n",
    "# Create the line chart: Capomulin treatment of mouse I509\n",
    "plt.figure(figsize=(10, 6))\n",
    "plt.plot(mouse_data[\"Timepoint\"], mouse_data[\"Tumor Volume (mm3)\"], color='blue')\n",
    "plt.xlabel(\"Timepoint(days)\")\n",
    "plt.ylabel(\"Tumor Volume (mm3)\")\n",
    "plt.title(\"Capomulin treatment of mouse I509\")"
   ],
   "id": "241975a6c5ecdb93",
   "outputs": [
    {
     "data": {
      "text/plain": [
       "Text(0.5, 1.0, 'Capomulin treatment of mouse I509')"
      ]
     },
     "execution_count": 23,
     "metadata": {},
     "output_type": "execute_result"
    },
    {
     "data": {
      "text/plain": [
       "<Figure size 1000x600 with 1 Axes>"
      ],
      "image/png": "[encoded data removed]"
     },
     "metadata": {},
     "output_type": "display_data"
    }
   ],
   "execution_count": 23
  },
  {
   "metadata": {
    "ExecuteTime": {
     "end_time": "2024-06-12T03:55:47.158691Z",
     "start_time": "2024-06-12T03:55:47.003204Z"
    }
   },
   "cell_type": "code",
   "source": [
    "# Generate a scatter plot of mouse weight vs. the average observed tumor volume for the entire Capomulin regimen\n",
    "\n",
    "# Filter data for the Capomulin treatment regimen\n",
    "capomulin_data = clean_df[clean_df['Drug Regimen'] == 'Capomulin']\n",
    "\n",
    "# Calculate the average tumor volume for each mouse\n",
    "avg_tumor_vol = capomulin_data.groupby('Mouse ID')['Tumor Volume (mm3)'].mean().reset_index()\n",
    "avg_tumor_vol = avg_tumor_vol.rename(columns={'Tumor Volume (mm3)': 'Avg Tumor Volume (mm3)'})\n",
    "\n",
    "# Get the weight of each mouse\n",
    "mouse_weight = capomulin_data[['Mouse ID', 'Weight (g)']].drop_duplicates()\n",
    "\n",
    "# Merge average tumor volume and mouse weight data\n",
    "merged_data = pd.merge(avg_tumor_vol, mouse_weight, on='Mouse ID')\n",
    "\n",
    "# Generate scatter plot\n",
    "plt.figure(figsize=(10, 6))\n",
    "plt.scatter(merged_data['Weight (g)'], merged_data['Avg Tumor Volume (mm3)'], color='b')\n",
    "plt.xlabel('Weight (g)')\n",
    "plt.ylabel('Average Tumor Volume (mm3)')\n",
    "\n",
    "# Show plot\n",
    "plt.show()"
   ],
   "id": "a7e4edc9fddbba5a",
   "outputs": [
    {
     "data": {
      "text/plain": [
       "<Figure size 1000x600 with 1 Axes>"
      ],
      "image/png": "[encoded data removed]"
     },
     "metadata": {},
     "output_type": "display_data"
    }
   ],
   "execution_count": 24
  },
  {
   "metadata": {},
   "cell_type": "markdown",
   "source": "## Correlation and Regression",
   "id": "1c4a94b62fb97336"
  },
  {
   "metadata": {
    "ExecuteTime": {
     "end_time": "2024-06-12T04:00:52.625546Z",
     "start_time": "2024-06-12T04:00:52.418627Z"
    }
   },
   "cell_type": "code",
   "source": [
    "# Calculate the correlation coefficient and a linear regression model \n",
    "# for mouse weight and average observed tumor volume for the entire Capomulin regimen\n",
    "\n",
    "# Calculate the correlation coefficient\n",
    "correlation = st.pearsonr(merged_data['Weight (g)'], merged_data['Avg Tumor Volume (mm3)'])\n",
    "print(f\"The correlation coefficient between mouse weight and average tumor volume is {round(correlation[0], 2)}\")\n",
    "\n",
    "# Perform linear regression\n",
    "slope, intercept, r_value, p_value, std_err = st.linregress(merged_data['Weight (g)'], merged_data['Avg Tumor Volume (mm3)'])\n",
    "\n",
    "# Generate regression line\n",
    "regress_values = merged_data['Weight (g)'] * slope + intercept\n",
    "\n",
    "# Generate scatter plot and regression line\n",
    "plt.figure(figsize=(10, 6))\n",
    "plt.scatter(merged_data['Weight (g)'], merged_data['Avg Tumor Volume (mm3)'], color='b', label='Mouse Data')\n",
    "plt.plot(merged_data['Weight (g)'], regress_values, color='r', label='Fitted Line')\n",
    "plt.xlabel('Weight (g)')\n",
    "plt.ylabel('Average Tumor Volume (mm3)')\n",
    "plt.legend()\n",
    "\n",
    "# Show plot\n",
    "plt.show()\n"
   ],
   "id": "bbe6d8a678b07b2e",
   "outputs": [
    {
     "name": "stdout",
     "output_type": "stream",
     "text": [
      "The correlation coefficient between mouse weight and average tumor volume is 0.84\n"
     ]
    },
    {
     "data": {
      "text/plain": [
       "<Figure size 1000x600 with 1 Axes>"
      ],
      "image/png": "[encoded data removed]"
     },
     "metadata": {},
     "output_type": "display_data"
    }
   ],
   "execution_count": 25
  },
  {
   "metadata": {},
   "cell_type": "code",
   "outputs": [],
   "execution_count": null,
   "source": "",
   "id": "1e82e24dc7ab74a8"
  }
 ],
 "metadata": {
  "kernelspec": {
   "display_name": "Python 3",
   "language": "python",
   "name": "python3"
  },
  "language_info": {
   "codemirror_mode": {
    "name": "ipython",
    "version": 2
   },
   "file_extension": ".py",
   "mimetype": "text/x-python",
   "name": "python",
   "nbconvert_exporter": "python",
   "pygments_lexer": "ipython2",
   "version": "2.7.6"
  }
 },
 "nbformat": 4,
 "nbformat_minor": 5
}
